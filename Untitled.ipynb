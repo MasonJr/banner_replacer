{
 "cells": [
  {
   "cell_type": "code",
   "execution_count": 5,
   "metadata": {},
   "outputs": [],
   "source": [
    "import pandas as pd\n",
    "import numpy as np"
   ]
  },
  {
   "cell_type": "code",
   "execution_count": 105,
   "metadata": {},
   "outputs": [],
   "source": [
    "df = pd.read_csv('supermen.csv', index_col=0)"
   ]
  },
  {
   "cell_type": "code",
   "execution_count": 106,
   "metadata": {},
   "outputs": [
    {
     "data": {
      "text/html": [
       "<div>\n",
       "<style scoped>\n",
       "    .dataframe tbody tr th:only-of-type {\n",
       "        vertical-align: middle;\n",
       "    }\n",
       "\n",
       "    .dataframe tbody tr th {\n",
       "        vertical-align: top;\n",
       "    }\n",
       "\n",
       "    .dataframe thead th {\n",
       "        text-align: right;\n",
       "    }\n",
       "</style>\n",
       "<table border=\"1\" class=\"dataframe\">\n",
       "  <thead>\n",
       "    <tr style=\"text-align: right;\">\n",
       "      <th></th>\n",
       "      <th>x_top_left</th>\n",
       "      <th>y_top_left</th>\n",
       "      <th>x_top_right</th>\n",
       "      <th>y_top_right</th>\n",
       "      <th>x_bot_left</th>\n",
       "      <th>y_bot_left</th>\n",
       "      <th>x_bot_right</th>\n",
       "      <th>y_bot_right</th>\n",
       "    </tr>\n",
       "  </thead>\n",
       "  <tbody>\n",
       "    <tr>\n",
       "      <th>0</th>\n",
       "      <td>924</td>\n",
       "      <td>120</td>\n",
       "      <td>1199</td>\n",
       "      <td>50</td>\n",
       "      <td>939</td>\n",
       "      <td>471</td>\n",
       "      <td>1229</td>\n",
       "      <td>444</td>\n",
       "    </tr>\n",
       "    <tr>\n",
       "      <th>1</th>\n",
       "      <td>924</td>\n",
       "      <td>120</td>\n",
       "      <td>1199</td>\n",
       "      <td>50</td>\n",
       "      <td>939</td>\n",
       "      <td>471</td>\n",
       "      <td>1229</td>\n",
       "      <td>444</td>\n",
       "    </tr>\n",
       "    <tr>\n",
       "      <th>2</th>\n",
       "      <td>924</td>\n",
       "      <td>120</td>\n",
       "      <td>1199</td>\n",
       "      <td>50</td>\n",
       "      <td>939</td>\n",
       "      <td>471</td>\n",
       "      <td>1229</td>\n",
       "      <td>444</td>\n",
       "    </tr>\n",
       "    <tr>\n",
       "      <th>3</th>\n",
       "      <td>924</td>\n",
       "      <td>120</td>\n",
       "      <td>1199</td>\n",
       "      <td>50</td>\n",
       "      <td>939</td>\n",
       "      <td>471</td>\n",
       "      <td>1229</td>\n",
       "      <td>444</td>\n",
       "    </tr>\n",
       "    <tr>\n",
       "      <th>4</th>\n",
       "      <td>924</td>\n",
       "      <td>120</td>\n",
       "      <td>1199</td>\n",
       "      <td>50</td>\n",
       "      <td>939</td>\n",
       "      <td>471</td>\n",
       "      <td>1229</td>\n",
       "      <td>444</td>\n",
       "    </tr>\n",
       "  </tbody>\n",
       "</table>\n",
       "</div>"
      ],
      "text/plain": [
       "   x_top_left  y_top_left  x_top_right  y_top_right  x_bot_left  y_bot_left  \\\n",
       "0         924         120         1199           50         939         471   \n",
       "1         924         120         1199           50         939         471   \n",
       "2         924         120         1199           50         939         471   \n",
       "3         924         120         1199           50         939         471   \n",
       "4         924         120         1199           50         939         471   \n",
       "\n",
       "   x_bot_right  y_bot_right  \n",
       "0         1229          444  \n",
       "1         1229          444  \n",
       "2         1229          444  \n",
       "3         1229          444  \n",
       "4         1229          444  "
      ]
     },
     "execution_count": 106,
     "metadata": {},
     "output_type": "execute_result"
    }
   ],
   "source": [
    "df.head()"
   ]
  },
  {
   "cell_type": "code",
   "execution_count": 107,
   "metadata": {},
   "outputs": [
    {
     "data": {
      "text/plain": [
       "x_top_left     1039\n",
       "y_top_left      124\n",
       "x_top_right    1279\n",
       "y_top_right      59\n",
       "x_bot_left     1059\n",
       "y_bot_left      508\n",
       "x_bot_right    1279\n",
       "y_bot_right      59\n",
       "Name: 120, dtype: int64"
      ]
     },
     "execution_count": 107,
     "metadata": {},
     "output_type": "execute_result"
    }
   ],
   "source": [
    "df.loc[120]"
   ]
  },
  {
   "cell_type": "code",
   "execution_count": 93,
   "metadata": {},
   "outputs": [],
   "source": [
    "x_top_left = df['x_top_left']\n",
    "y_top_left = df['y_top_left']\n",
    "x_bot_left = df['x_bot_left']\n",
    "y_bot_left = df['y_bot_left']\n",
    "\n",
    "x_top_right = df['x_top_right']\n",
    "y_top_right = df['y_top_right']\n",
    "x_bot_right = df['x_bot_right']\n",
    "y_bot_right = df['y_bot_right']\n",
    "\n",
    "df['left_height'] = np.sqrt((x_top_left-x_bot_left[0])**2+(y_top_left-y_bot_left)**2)\n",
    "df['top_width'] = abs(x_top_left - x_top_right)\n",
    "df['bot_width'] = abs(x_bot_left - x_bot_right)\n",
    "df['ratio_top'] = left_height/top_width\n",
    "df['ratio_bot'] = left_height/bot_width\n",
    "\n",
    "df['tmp_top_r_x'] = x_top_left + left_height / 1.45\n",
    "df['tmp_bot_r_x'] = x_bot_left + left_height / 1.4\n",
    "#     top_right[1] = y_top(tmp_top_r_x)\n",
    "#     bot_right[1] = y_bot(tmp_bot_r_x)\n",
    "# top_right[0] = tmp_top_r_x\n",
    "# bot_right[0] = tmp_bot_r_x\n",
    "# print(bot_right)\n",
    "\n",
    "# print(self.min_ratio)\n",
    "\n",
    "# if bot_right[0] == top_right[0]:\n",
    "#     new_array = approx[np.where(approx == frame_copy.shape[1] - 1)[0].tolist()]\n",
    "#     new_index_max = np.ravel(np.argmax(new_array, axis=0))\n",
    "#     bot_right = new_array[new_index_max[1]].tolist()[0]"
   ]
  },
  {
   "cell_type": "code",
   "execution_count": 100,
   "metadata": {},
   "outputs": [],
   "source": [
    "df['y_top'] = (tmp_top_r_x-x_top_left)*(y_top_right-y_top_left)/(x_top_right-x_top_left)+y_top_left\n",
    "df['y_bot'] = (tmp_bot_r_x-x_bot_left)*(y_bot_right-y_bot_left)/(x_bot_right-x_bot_left)+y_bot_left"
   ]
  },
  {
   "cell_type": "code",
   "execution_count": null,
   "metadata": {},
   "outputs": [],
   "source": []
  },
  {
   "cell_type": "code",
   "execution_count": 101,
   "metadata": {},
   "outputs": [],
   "source": [
    "tmp_top_r_x, x_top_left, x_top_right, y_top_left, y_top_right = df.loc[120, ['tmp_top_r_x', 'x_top_left', 'x_top_right', 'y_top_left', 'y_top_right']]"
   ]
  },
  {
   "cell_type": "code",
   "execution_count": 102,
   "metadata": {},
   "outputs": [
    {
     "data": {
      "text/plain": [
       "50.0625"
      ]
     },
     "execution_count": 102,
     "metadata": {},
     "output_type": "execute_result"
    }
   ],
   "source": [
    "(1342 - 1059) * (59 - 124)/(1279 - 1039) + 124"
   ]
  },
  {
   "cell_type": "code",
   "execution_count": 99,
   "metadata": {},
   "outputs": [
    {
     "data": {
      "text/plain": [
       "49.88370181069283"
      ]
     },
     "execution_count": 99,
     "metadata": {},
     "output_type": "execute_result"
    }
   ],
   "source": [
    "(tmp_top_r_x-x_top_left)*(y_top_right-y_top_left)/(x_top_right-x_top_left)+y_top_left"
   ]
  },
  {
   "cell_type": "code",
   "execution_count": 104,
   "metadata": {},
   "outputs": [
    {
     "data": {
      "text/plain": [
       "x_top_left     1039.000000\n",
       "y_top_left      124.000000\n",
       "x_top_right    1279.000000\n",
       "y_top_right      59.000000\n",
       "x_bot_left     1059.000000\n",
       "y_bot_left      508.000000\n",
       "x_bot_right    1279.000000\n",
       "y_bot_right      59.000000\n",
       "left_height     396.807258\n",
       "top_width       240.000000\n",
       "bot_width       220.000000\n",
       "tmp_top_r_x    1312.660178\n",
       "tmp_bot_r_x    1342.433756\n",
       "ratio_top         1.653364\n",
       "ratio_bot         1.803669\n",
       "y_top            49.883702\n",
       "y_bot          -134.736143\n",
       "Name: 120, dtype: float64"
      ]
     },
     "execution_count": 104,
     "metadata": {},
     "output_type": "execute_result"
    }
   ],
   "source": [
    "df.loc[120]"
   ]
  },
  {
   "cell_type": "code",
   "execution_count": null,
   "metadata": {},
   "outputs": [],
   "source": []
  }
 ],
 "metadata": {
  "kernelspec": {
   "display_name": "Python 3",
   "language": "python",
   "name": "python3"
  },
  "language_info": {
   "codemirror_mode": {
    "name": "ipython",
    "version": 3
   },
   "file_extension": ".py",
   "mimetype": "text/x-python",
   "name": "python",
   "nbconvert_exporter": "python",
   "pygments_lexer": "ipython3",
   "version": "3.7.6"
  }
 },
 "nbformat": 4,
 "nbformat_minor": 2
}
